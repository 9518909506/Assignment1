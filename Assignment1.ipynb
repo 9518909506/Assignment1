{
 "cells": [
  {
   "cell_type": "code",
   "execution_count": 1,
   "id": "efb8808f-74da-4fc5-bd1b-11cc67f270c2",
   "metadata": {},
   "outputs": [],
   "source": [
    "a=\"vipin\""
   ]
  },
  {
   "cell_type": "code",
   "execution_count": 2,
   "id": "a65e6342-bce6-4a9b-ae67-f586d511b911",
   "metadata": {},
   "outputs": [
    {
     "data": {
      "text/plain": [
       "'vipin'"
      ]
     },
     "execution_count": 2,
     "metadata": {},
     "output_type": "execute_result"
    }
   ],
   "source": [
    "a"
   ]
  },
  {
   "cell_type": "code",
   "execution_count": 3,
   "id": "b41daf77-ee10-4c3b-89af-5654686174dd",
   "metadata": {},
   "outputs": [
    {
     "data": {
      "text/plain": [
       "str"
      ]
     },
     "execution_count": 3,
     "metadata": {},
     "output_type": "execute_result"
    }
   ],
   "source": [
    "type(a)"
   ]
  },
  {
   "cell_type": "code",
   "execution_count": 4,
   "id": "303663df-116c-43da-88c0-cd6c8b53ec6c",
   "metadata": {},
   "outputs": [],
   "source": [
    "b=[1,2,3,4,5,\"vipin\",\"patil\",34.23,3j+23,True]"
   ]
  },
  {
   "cell_type": "code",
   "execution_count": 5,
   "id": "ad1795a4-977a-4831-99f2-bf28eb8b6d7a",
   "metadata": {},
   "outputs": [
    {
     "data": {
      "text/plain": [
       "[1, 2, 3, 4, 5, 'vipin', 'patil', 34.23, (23+3j), True]"
      ]
     },
     "execution_count": 5,
     "metadata": {},
     "output_type": "execute_result"
    }
   ],
   "source": [
    "b"
   ]
  },
  {
   "cell_type": "code",
   "execution_count": 6,
   "id": "9ffcc802-bcc1-4946-9019-3d4932267b5e",
   "metadata": {},
   "outputs": [
    {
     "data": {
      "text/plain": [
       "list"
      ]
     },
     "execution_count": 6,
     "metadata": {},
     "output_type": "execute_result"
    }
   ],
   "source": [
    "type(b)"
   ]
  },
  {
   "cell_type": "code",
   "execution_count": 7,
   "id": "b7a5672d-f6a0-42d8-b264-ff159db12c4d",
   "metadata": {},
   "outputs": [],
   "source": [
    "c=23.56"
   ]
  },
  {
   "cell_type": "code",
   "execution_count": 8,
   "id": "1e00ade6-e31a-419a-8bf5-be618c6f5f28",
   "metadata": {},
   "outputs": [
    {
     "data": {
      "text/plain": [
       "23.56"
      ]
     },
     "execution_count": 8,
     "metadata": {},
     "output_type": "execute_result"
    }
   ],
   "source": [
    "c"
   ]
  },
  {
   "cell_type": "code",
   "execution_count": 9,
   "id": "0933384b-b6ce-4656-8d7c-c0120b0018c7",
   "metadata": {},
   "outputs": [
    {
     "data": {
      "text/plain": [
       "float"
      ]
     },
     "execution_count": 9,
     "metadata": {},
     "output_type": "execute_result"
    }
   ],
   "source": [
    "type(c)"
   ]
  },
  {
   "cell_type": "code",
   "execution_count": 10,
   "id": "10b898ce-f870-4481-9234-68c3e5158261",
   "metadata": {},
   "outputs": [],
   "source": [
    "d=3j+34"
   ]
  },
  {
   "cell_type": "code",
   "execution_count": 11,
   "id": "90deda00-a0e7-4d8d-a3c8-7743a4c0ed1c",
   "metadata": {},
   "outputs": [
    {
     "data": {
      "text/plain": [
       "(34+3j)"
      ]
     },
     "execution_count": 11,
     "metadata": {},
     "output_type": "execute_result"
    }
   ],
   "source": [
    "d"
   ]
  },
  {
   "cell_type": "code",
   "execution_count": 12,
   "id": "a0110017-a1d9-438e-a6f5-fb776c3bbea9",
   "metadata": {},
   "outputs": [
    {
     "data": {
      "text/plain": [
       "complex"
      ]
     },
     "execution_count": 12,
     "metadata": {},
     "output_type": "execute_result"
    }
   ],
   "source": [
    "type(d)"
   ]
  },
  {
   "cell_type": "code",
   "execution_count": 14,
   "id": "ac8844aa-a98c-460c-a37d-a117316dca68",
   "metadata": {},
   "outputs": [],
   "source": [
    "var1=' '"
   ]
  },
  {
   "cell_type": "code",
   "execution_count": 15,
   "id": "7ef77ae7-f213-480e-b5a9-5a08cc2f05d3",
   "metadata": {},
   "outputs": [
    {
     "data": {
      "text/plain": [
       "str"
      ]
     },
     "execution_count": 15,
     "metadata": {},
     "output_type": "execute_result"
    }
   ],
   "source": [
    "type(var1)"
   ]
  },
  {
   "cell_type": "code",
   "execution_count": 17,
   "id": "36da68eb-8f10-4c38-a2f1-014965199382",
   "metadata": {},
   "outputs": [],
   "source": [
    "var2='[Ds,ML,Phython]'"
   ]
  },
  {
   "cell_type": "code",
   "execution_count": 18,
   "id": "f9cf31a5-07c2-4e55-9f41-fa3fcef845e6",
   "metadata": {},
   "outputs": [
    {
     "data": {
      "text/plain": [
       "str"
      ]
     },
     "execution_count": 18,
     "metadata": {},
     "output_type": "execute_result"
    }
   ],
   "source": [
    "type(var2)"
   ]
  },
  {
   "cell_type": "code",
   "execution_count": 19,
   "id": "134d18d0-ef99-4792-af64-82bc09ce6800",
   "metadata": {},
   "outputs": [],
   "source": [
    "var3=['DS','ML','phython']"
   ]
  },
  {
   "cell_type": "code",
   "execution_count": 20,
   "id": "8ea0daa1-b132-4361-8d32-01984c03085b",
   "metadata": {},
   "outputs": [
    {
     "data": {
      "text/plain": [
       "list"
      ]
     },
     "execution_count": 20,
     "metadata": {},
     "output_type": "execute_result"
    }
   ],
   "source": [
    "type(var3)"
   ]
  },
  {
   "cell_type": "code",
   "execution_count": 21,
   "id": "0029f2a9-7dff-46d3-ac6b-f91df1983a32",
   "metadata": {},
   "outputs": [],
   "source": [
    "var4=1."
   ]
  },
  {
   "cell_type": "code",
   "execution_count": 22,
   "id": "ae0ad7ae-eef9-4d04-96ec-7c76b89e503e",
   "metadata": {},
   "outputs": [
    {
     "data": {
      "text/plain": [
       "float"
      ]
     },
     "execution_count": 22,
     "metadata": {},
     "output_type": "execute_result"
    }
   ],
   "source": [
    "type(var4)"
   ]
  },
  {
   "cell_type": "code",
   "execution_count": null,
   "id": "4435cc72-5cba-4796-bb25-4ccb383bbf22",
   "metadata": {},
   "outputs": [],
   "source": [
    "\"/\" it is used by division of two number."
   ]
  },
  {
   "cell_type": "code",
   "execution_count": 24,
   "id": "3bf1a62b-0c1d-4d92-ba0e-846810070177",
   "metadata": {},
   "outputs": [
    {
     "data": {
      "text/plain": [
       "6.0"
      ]
     },
     "execution_count": 24,
     "metadata": {},
     "output_type": "execute_result"
    }
   ],
   "source": [
    "12/2"
   ]
  },
  {
   "cell_type": "code",
   "execution_count": null,
   "id": "f3370e33-0885-4ac9-889b-81adb26e3b77",
   "metadata": {},
   "outputs": [],
   "source": [
    "\"%\" this is module"
   ]
  },
  {
   "cell_type": "code",
   "execution_count": 26,
   "id": "b0a57aca-4ed1-4576-a72c-3d05754ba389",
   "metadata": {},
   "outputs": [
    {
     "data": {
      "text/plain": [
       "0"
      ]
     },
     "execution_count": 26,
     "metadata": {},
     "output_type": "execute_result"
    }
   ],
   "source": [
    "24%2"
   ]
  },
  {
   "cell_type": "code",
   "execution_count": null,
   "id": "d753217e-7263-49fb-98e2-db945eab4824",
   "metadata": {},
   "outputs": [],
   "source": [
    "\"//\" this used by power"
   ]
  },
  {
   "cell_type": "code",
   "execution_count": 27,
   "id": "e499481f-abb1-42f6-8289-b102886cb8cc",
   "metadata": {},
   "outputs": [
    {
     "data": {
      "text/plain": [
       "1"
      ]
     },
     "execution_count": 27,
     "metadata": {},
     "output_type": "execute_result"
    }
   ],
   "source": [
    "5//4"
   ]
  },
  {
   "cell_type": "code",
   "execution_count": null,
   "id": "626449c6-20e8-43af-bb1f-d5bd10250147",
   "metadata": {},
   "outputs": [],
   "source": [
    "\"**\" this is used by power"
   ]
  },
  {
   "cell_type": "code",
   "execution_count": 28,
   "id": "b743f91e-2e3c-4d38-adb0-972a36e61187",
   "metadata": {},
   "outputs": [
    {
     "data": {
      "text/plain": [
       "8"
      ]
     },
     "execution_count": 28,
     "metadata": {},
     "output_type": "execute_result"
    }
   ],
   "source": [
    "2**3"
   ]
  },
  {
   "cell_type": "code",
   "execution_count": 29,
   "id": "8f9ce6e6-aa84-406f-8bc3-c28ccf2cdcae",
   "metadata": {},
   "outputs": [],
   "source": [
    "l=[1,2,3,4,5,6,\"vipin\",True,3j+23,23.89,]"
   ]
  },
  {
   "cell_type": "code",
   "execution_count": 30,
   "id": "aa65679f-d37c-4735-a66f-cca86e5bcba8",
   "metadata": {},
   "outputs": [
    {
     "data": {
      "text/plain": [
       "[1, 2, 3, 4, 5, 6, 'vipin', True, (23+3j), 23.89]"
      ]
     },
     "execution_count": 30,
     "metadata": {},
     "output_type": "execute_result"
    }
   ],
   "source": [
    "l"
   ]
  },
  {
   "cell_type": "code",
   "execution_count": 32,
   "id": "fedd7e2e-0ec3-4b6f-8b39-760e5933309c",
   "metadata": {},
   "outputs": [
    {
     "name": "stdout",
     "output_type": "stream",
     "text": [
      "1\n",
      "<class 'int'>\n",
      "2\n",
      "<class 'int'>\n",
      "3\n",
      "<class 'int'>\n",
      "4\n",
      "<class 'int'>\n",
      "5\n",
      "<class 'int'>\n",
      "6\n",
      "<class 'int'>\n",
      "vipin\n",
      "<class 'str'>\n",
      "True\n",
      "<class 'bool'>\n",
      "(23+3j)\n",
      "<class 'complex'>\n",
      "23.89\n",
      "<class 'float'>\n"
     ]
    }
   ],
   "source": [
    "for i in l:\n",
    "    print(i)\n",
    "    print(type(i))"
   ]
  },
  {
   "cell_type": "code",
   "execution_count": null,
   "id": "19bee308-e01e-4f18-b3db-fc140c0931ca",
   "metadata": {},
   "outputs": [],
   "source": [
    "a=12\n",
    "b=3\n",
    "c=0\n",
    "if (a/b==0:\n",
    "    while(a/b>=0)\n",
    "          c+=1\n",
    "          a/=b\n",
    "    c\n",
    "else:\n",
    "    print"
   ]
  },
  {
   "cell_type": "code",
   "execution_count": 71,
   "id": "08ea5372-04ab-47e9-b90e-4f0e0bba1017",
   "metadata": {},
   "outputs": [],
   "source": [
    "v=[1,2,3.,4,5,6,78,9,10,11,12,13,14,15,16,20,25,30,45,42,40,25,55,65,60]"
   ]
  },
  {
   "cell_type": "code",
   "execution_count": 95,
   "id": "1ecd5c82-e734-4865-b871-dc9e08bd6342",
   "metadata": {},
   "outputs": [
    {
     "name": "stdout",
     "output_type": "stream",
     "text": [
      "1\n",
      "2\n",
      "3.0\n",
      "it is divisible by 3\n",
      "4\n",
      "5\n",
      "6\n",
      "it is divisible by 3\n",
      "78\n",
      "it is divisible by 3\n",
      "9\n",
      "it is divisible by 3\n",
      "10\n",
      "11\n",
      "12\n",
      "it is divisible by 3\n",
      "13\n",
      "14\n",
      "15\n",
      "it is divisible by 3\n",
      "16\n",
      "20\n",
      "25\n",
      "30\n",
      "it is divisible by 3\n",
      "45\n",
      "it is divisible by 3\n",
      "42\n",
      "it is divisible by 3\n",
      "40\n",
      "25\n",
      "55\n",
      "65\n",
      "60\n",
      "it is divisible by 3\n",
      "this is not divisible by 3\n"
     ]
    }
   ],
   "source": [
    "for i in v:\n",
    "    print(i)\n",
    "    if i%3==0:\n",
    "        print(\"it is divisible by 3\") \n",
    "else :\n",
    "         print(\"this is not divisible by 3\")"
   ]
  },
  {
   "cell_type": "code",
   "execution_count": null,
   "id": "4b146eca-16cd-430c-ab43-1b408fd4c605",
   "metadata": {},
   "outputs": [],
   "source": [
    "Mutable= changing the data on list."
   ]
  },
  {
   "cell_type": "code",
   "execution_count": 96,
   "id": "9b7f46e7-6e26-4204-b195-83cb9ead0295",
   "metadata": {},
   "outputs": [],
   "source": [
    "s=[12,13,14,15,16,17]"
   ]
  },
  {
   "cell_type": "code",
   "execution_count": 97,
   "id": "997e395a-15be-4c39-9233-af51f654e0be",
   "metadata": {},
   "outputs": [],
   "source": [
    "s[1]=100"
   ]
  },
  {
   "cell_type": "code",
   "execution_count": 98,
   "id": "673a04a6-6415-460b-a77b-2218cd2bdb0a",
   "metadata": {},
   "outputs": [
    {
     "data": {
      "text/plain": [
       "[12, 100, 14, 15, 16, 17]"
      ]
     },
     "execution_count": 98,
     "metadata": {},
     "output_type": "execute_result"
    }
   ],
   "source": [
    "s"
   ]
  },
  {
   "cell_type": "code",
   "execution_count": 99,
   "id": "d0e64b61-d7d8-46cf-9d2d-9657c56b5297",
   "metadata": {},
   "outputs": [],
   "source": [
    "s[0]=\"vipin\""
   ]
  },
  {
   "cell_type": "code",
   "execution_count": 100,
   "id": "4860a707-6c73-49b4-be50-2adb9e0c8ef4",
   "metadata": {},
   "outputs": [
    {
     "data": {
      "text/plain": [
       "['vipin', 100, 14, 15, 16, 17]"
      ]
     },
     "execution_count": 100,
     "metadata": {},
     "output_type": "execute_result"
    }
   ],
   "source": [
    "s"
   ]
  },
  {
   "cell_type": "code",
   "execution_count": null,
   "id": "27073a88-c72b-4ad3-924c-630a81a0c008",
   "metadata": {},
   "outputs": [],
   "source": [
    "Imutable=can not change data on str datatype ."
   ]
  },
  {
   "cell_type": "code",
   "execution_count": 101,
   "id": "ec1801aa-424f-4f10-a617-fbc4c773e52c",
   "metadata": {},
   "outputs": [],
   "source": [
    "n=\"patil\""
   ]
  },
  {
   "cell_type": "code",
   "execution_count": 102,
   "id": "abd90a91-ba31-42f8-8a13-bd95e88c6aef",
   "metadata": {},
   "outputs": [
    {
     "ename": "TypeError",
     "evalue": "'str' object does not support item assignment",
     "output_type": "error",
     "traceback": [
      "\u001b[0;31m---------------------------------------------------------------------------\u001b[0m",
      "\u001b[0;31mTypeError\u001b[0m                                 Traceback (most recent call last)",
      "Cell \u001b[0;32mIn[102], line 1\u001b[0m\n\u001b[0;32m----> 1\u001b[0m \u001b[43mn\u001b[49m\u001b[43m[\u001b[49m\u001b[38;5;241;43m2\u001b[39;49m\u001b[43m]\u001b[49m\u001b[38;5;241m=\u001b[39m\u001b[38;5;124m\"\u001b[39m\u001b[38;5;124mm\u001b[39m\u001b[38;5;124m\"\u001b[39m\n",
      "\u001b[0;31mTypeError\u001b[0m: 'str' object does not support item assignment"
     ]
    }
   ],
   "source": [
    "n[2]=\"m\""
   ]
  },
  {
   "cell_type": "code",
   "execution_count": null,
   "id": "2e70716c-c2e8-475a-ade8-80e103d3dca2",
   "metadata": {},
   "outputs": [],
   "source": []
  }
 ],
 "metadata": {
  "kernelspec": {
   "display_name": "Python 3 (ipykernel)",
   "language": "python",
   "name": "python3"
  },
  "language_info": {
   "codemirror_mode": {
    "name": "ipython",
    "version": 3
   },
   "file_extension": ".py",
   "mimetype": "text/x-python",
   "name": "python",
   "nbconvert_exporter": "python",
   "pygments_lexer": "ipython3",
   "version": "3.10.8"
  }
 },
 "nbformat": 4,
 "nbformat_minor": 5
}
